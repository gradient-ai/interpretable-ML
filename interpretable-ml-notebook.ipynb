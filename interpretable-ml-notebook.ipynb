{
 "cells": [
  {
   "cell_type": "code",
   "execution_count": 1,
   "source": [
    "import pandas as pd\n",
    "from sklearn.ensemble import RandomForestClassifier\n",
    "from sklearn.model_selection import train_test_split"
   ],
   "outputs": [],
   "metadata": {
    "_uuid": "47890a8c7d2cb2fd80be20e929961aa4e2dda8bb",
    "execution": {
     "iopub.execute_input": "2022-02-13T06:39:06.636112Z",
     "iopub.status.busy": "2022-02-13T06:39:06.635780Z",
     "iopub.status.idle": "2022-02-13T06:39:07.690016Z",
     "shell.execute_reply": "2022-02-13T06:39:07.688958Z",
     "shell.execute_reply.started": "2022-02-13T06:39:06.636047Z"
    }
   }
  },
  {
   "cell_type": "code",
   "execution_count": null,
   "source": [
    "!wget https://raw.githubusercontent.com/plotly/datasets/master/diabetes.csv"
   ],
   "outputs": [],
   "metadata": {}
  },
  {
   "cell_type": "code",
   "execution_count": 2,
   "source": [
    "df = pd.read_csv(\"diabetes.csv\")\n",
    "df.head()"
   ],
   "outputs": [],
   "metadata": {
    "_uuid": "27a5a29b269193aa7b214a97d3d3c8041170a41d",
    "execution": {
     "iopub.execute_input": "2022-02-13T06:39:07.694733Z",
     "iopub.status.busy": "2022-02-13T06:39:07.694075Z",
     "iopub.status.idle": "2022-02-13T06:39:07.769397Z",
     "shell.execute_reply": "2022-02-13T06:39:07.768298Z",
     "shell.execute_reply.started": "2022-02-13T06:39:07.694433Z"
    }
   }
  },
  {
   "cell_type": "code",
   "execution_count": 3,
   "source": [
    "target=df['Outcome']\n",
    "df=df.drop(labels=['Outcome'],axis=1)\n",
    "# train-test split\n",
    "X_train, X_test, y_train, y_test = train_test_split(df, target, test_size=0.2, random_state=42)\n",
    "# fit the model \n",
    "rfc=RandomForestClassifier(random_state=1234,max_depth=3,criterion='entropy')\n",
    "rfc.fit(X_train,y_train)\n",
    "# evaluate the results\n",
    "rfc.score(X_test,y_test)"
   ],
   "outputs": [],
   "metadata": {
    "_uuid": "79506510a9c5c6d7e9bfd11a491dcc376340e809",
    "execution": {
     "iopub.execute_input": "2022-02-13T06:39:07.772448Z",
     "iopub.status.busy": "2022-02-13T06:39:07.771912Z",
     "iopub.status.idle": "2022-02-13T06:39:07.826142Z",
     "shell.execute_reply": "2022-02-13T06:39:07.825188Z",
     "shell.execute_reply.started": "2022-02-13T06:39:07.772380Z"
    }
   }
  },
  {
   "cell_type": "code",
   "execution_count": 4,
   "source": [
    "from sklearn.model_selection import GridSearchCV \n",
    "parameters={\"n_estimators\":[10,20,50,100,200],\n",
    "           \"max_depth\":[2,3],\n",
    "           \"min_samples_split\":[2,3,4],\n",
    "           \"max_features\":('auto','log2'),\n",
    "           \"criterion\":('gini','entropy')}\n",
    "clf=GridSearchCV(rfc, parameters, cv=5)\n",
    "clf.fit(X_train,y_train)\n",
    "print(clf.best_params_)\n",
    "estimator=clf.best_estimator_\n",
    "print(estimator.score(X_test,y_test))"
   ],
   "outputs": [],
   "metadata": {
    "execution": {
     "iopub.execute_input": "2022-02-13T06:39:08.055525Z",
     "iopub.status.busy": "2022-02-13T06:39:08.054968Z",
     "iopub.status.idle": "2022-02-13T06:40:06.463684Z",
     "shell.execute_reply": "2022-02-13T06:40:06.462543Z",
     "shell.execute_reply.started": "2022-02-13T06:39:08.055453Z"
    }
   }
  },
  {
   "cell_type": "code",
   "execution_count": 5,
   "source": [
    "import seaborn as sns\n",
    "sns.set(style=\"white\", palette=\"colorblind\", font_scale=1.2, \n",
    "        rc={\"figure.figsize\":(12,9)})\n",
    "RANDOM_STATE = 420 \n",
    "N_JOBS=8"
   ],
   "outputs": [],
   "metadata": {
    "_uuid": "f04fc4152655287ca45acbd2226bb4e080f6236e",
    "execution": {
     "iopub.execute_input": "2022-02-13T06:40:06.465751Z",
     "iopub.status.busy": "2022-02-13T06:40:06.465475Z",
     "iopub.status.idle": "2022-02-13T06:40:06.753440Z",
     "shell.execute_reply": "2022-02-13T06:40:06.752451Z",
     "shell.execute_reply.started": "2022-02-13T06:40:06.465704Z"
    }
   }
  },
  {
   "cell_type": "code",
   "execution_count": 6,
   "source": [
    "features = [\"Pregnancies\",\"Glucose\",\"BloodPressure\",\"SkinThickness\",\"Insulin\",\"BMI\",\"DiabetesPedigreeFunction\",\"Age\"]\n",
    "all_feat_imp_df = pd.DataFrame(data=[tree.feature_importances_ for tree in \n",
    "                                     rfc],\n",
    "                               columns=features)\n",
    "\n",
    "(sns.boxplot(data=all_feat_imp_df)\n",
    "        .set(title='Feature Importance Distributions',\n",
    "             ylabel='Importance'));"
   ],
   "outputs": [],
   "metadata": {
    "_kg_hide-output": true,
    "_uuid": "ba7731734b4946d9ec6baca30783514c0e800e1f",
    "execution": {
     "iopub.execute_input": "2022-02-13T06:40:06.755455Z",
     "iopub.status.busy": "2022-02-13T06:40:06.755108Z",
     "iopub.status.idle": "2022-02-13T06:40:07.343592Z",
     "shell.execute_reply": "2022-02-13T06:40:07.342354Z",
     "shell.execute_reply.started": "2022-02-13T06:40:06.755397Z"
    }
   }
  },
  {
   "cell_type": "code",
   "execution_count": 7,
   "source": [
    "!pip install pydotplus\n",
    "!sudo add-apt-repository universe\n",
    "!sudo apt update\n",
    "!pip install sklearn_gbmi\n",
    "!pip install pdpbox\n",
    "\n",
    "#You must go into terminal to install graphviz\n",
    "\n",
    "# !sudo apt-get install graphviz"
   ],
   "outputs": [],
   "metadata": {
    "execution": {
     "iopub.execute_input": "2022-02-13T06:40:07.345873Z",
     "iopub.status.busy": "2022-02-13T06:40:07.345575Z",
     "iopub.status.idle": "2022-02-13T06:40:18.927292Z",
     "shell.execute_reply": "2022-02-13T06:40:18.926239Z",
     "shell.execute_reply.started": "2022-02-13T06:40:07.345822Z"
    }
   }
  },
  {
   "cell_type": "code",
   "execution_count": 8,
   "source": [
    "from IPython.display import Image  \n",
    "from sklearn.tree import export_graphviz\n",
    "import graphviz\n",
    "import pydotplus\n",
    "from io import StringIO  \n",
    "\n",
    "# Get all trees of depth 3 in the random forest\n",
    "depths3 = [tree for tree in rfc.estimators_ if tree.tree_.max_depth==3]\n",
    "# grab the first one\n",
    "tree = depths3[0]\n",
    "# plot the tree\n",
    "dot_data = StringIO()\n",
    "export_graphviz(tree, out_file=dot_data, feature_names=features, \n",
    "                filled=True, rounded=True, special_characters=True)\n",
    "graph = pydotplus.graph_from_dot_data(dot_data.getvalue())  \n",
    "Image(graph.create_png())"
   ],
   "outputs": [],
   "metadata": {
    "_uuid": "4d66fac6a1f2a664be30fddcca8105c5c1b1102c",
    "execution": {
     "iopub.execute_input": "2022-02-13T06:40:18.929195Z",
     "iopub.status.busy": "2022-02-13T06:40:18.928870Z",
     "iopub.status.idle": "2022-02-13T06:40:19.426473Z",
     "shell.execute_reply": "2022-02-13T06:40:19.425404Z",
     "shell.execute_reply.started": "2022-02-13T06:40:18.929135Z"
    }
   }
  },
  {
   "cell_type": "markdown",
   "source": [
    "# Local Interpretable Model-agnostic Explaination (LIME)"
   ],
   "metadata": {
    "_uuid": "39579934c490f13a76c332514120295906dad849"
   }
  },
  {
   "cell_type": "code",
   "execution_count": 13,
   "source": [
    "import lime\n",
    "import lime.lime_tabular\n",
    "classes=['non-diabetic','diabetic']\n",
    "explainer = lime.lime_tabular.LimeTabularExplainer(X_train.astype(int).values,  \n",
    "mode='classification',training_labels=y_train,feature_names=features,class_names=classes)\n",
    "#Let's take a look for the patient in 100th row\n",
    "i = 100\n",
    "exp = explainer.explain_instance(X_train.loc[i,features].astype(int).values, estimator.predict_proba, num_features=5)\n",
    "# visualize the explanation\n",
    "exp.show_in_notebook(show_table=True)"
   ],
   "outputs": [],
   "metadata": {
    "_uuid": "7a67ea0ae90c242942adc83ac800be2e8a7420c3",
    "execution": {
     "iopub.execute_input": "2022-02-13T06:40:34.887545Z",
     "iopub.status.busy": "2022-02-13T06:40:34.886949Z",
     "iopub.status.idle": "2022-02-13T06:40:35.541538Z",
     "shell.execute_reply": "2022-02-13T06:40:35.540297Z",
     "shell.execute_reply.started": "2022-02-13T06:40:34.887281Z"
    }
   }
  },
  {
   "cell_type": "markdown",
   "source": [
    "# SHAP"
   ],
   "metadata": {
    "_uuid": "93e8bb32c4c8440ce28293154e4d7414997f4b32"
   }
  },
  {
   "cell_type": "code",
   "execution_count": 14,
   "source": [
    "import shap\n",
    "# create our SHAP explainer\n",
    "shap_explainer = shap.TreeExplainer(estimator)\n",
    "# calculate the shapley values for our data\n",
    "shap_values = shap_explainer.shap_values(X_train.iloc[7])\n",
    "shap.initjs()\n",
    "shap.force_plot(shap_explainer.expected_value[1], shap_values[1], X_train.iloc[7])"
   ],
   "outputs": [],
   "metadata": {
    "_uuid": "3f9f059585eea81e77b2f0fa200caaa44cff5d21",
    "execution": {
     "iopub.execute_input": "2022-02-13T06:40:35.544470Z",
     "iopub.status.busy": "2022-02-13T06:40:35.543646Z",
     "iopub.status.idle": "2022-02-13T06:40:36.724658Z",
     "shell.execute_reply": "2022-02-13T06:40:36.723587Z",
     "shell.execute_reply.started": "2022-02-13T06:40:35.544388Z"
    }
   }
  },
  {
   "cell_type": "code",
   "execution_count": 15,
   "source": [
    "shap_values = shap_explainer.shap_values(X_train)\n",
    "shap.summary_plot(shap_values[1], X_train,auto_size_plot=False)"
   ],
   "outputs": [],
   "metadata": {
    "_uuid": "78437c16613b0e24ee94bb97f0281d2bc47eec90",
    "execution": {
     "iopub.execute_input": "2022-02-13T06:40:36.726929Z",
     "iopub.status.busy": "2022-02-13T06:40:36.726325Z",
     "iopub.status.idle": "2022-02-13T06:40:37.643426Z",
     "shell.execute_reply": "2022-02-13T06:40:37.642447Z",
     "shell.execute_reply.started": "2022-02-13T06:40:36.726865Z"
    }
   }
  },
  {
   "cell_type": "code",
   "execution_count": null,
   "source": [],
   "outputs": [],
   "metadata": {}
  }
 ],
 "metadata": {
  "kernelspec": {
   "display_name": "Python 3 (ipykernel)",
   "language": "python",
   "name": "python3"
  },
  "language_info": {
   "codemirror_mode": {
    "name": "ipython",
    "version": 3
   },
   "file_extension": ".py",
   "mimetype": "text/x-python",
   "name": "python",
   "nbconvert_exporter": "python",
   "pygments_lexer": "ipython3",
   "version": "3.8.10"
  }
 },
 "nbformat": 4,
 "nbformat_minor": 4
}